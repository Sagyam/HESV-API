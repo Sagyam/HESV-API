{
 "cells": [
  {
   "cell_type": "code",
   "execution_count": 1,
   "metadata": {},
   "outputs": [],
   "source": [
    "import re\n",
    "import cv2 as cv\n",
    "import tensorflow as tf\n",
    "import numpy as np\n",
    "import matplotlib.pyplot as plt"
   ]
  },
  {
   "cell_type": "code",
   "execution_count": 2,
   "metadata": {},
   "outputs": [],
   "source": [
    "class_names = [\n",
    "    \"0\",\n",
    "    \"1\",\n",
    "    \"2\",\n",
    "    \"3\",\n",
    "    \"4\",\n",
    "    \"5\",\n",
    "    \"6\",\n",
    "    \"7\",\n",
    "    \"8\",\n",
    "    \"9\",\n",
    "    \"+\",\n",
    "    \".\",\n",
    "    \"/\",\n",
    "    \"=\",\n",
    "    \"*\",\n",
    "    \"-\",\n",
    "    \"X\",\n",
    "    \"Y\",\n",
    "    \"Z\",\n",
    "]"
   ]
  },
  {
   "cell_type": "code",
   "execution_count": 3,
   "metadata": {},
   "outputs": [
    {
     "name": "stderr",
     "output_type": "stream",
     "text": [
      "2022-01-26 15:20:53.454072: I tensorflow/core/platform/cpu_feature_guard.cc:151] This TensorFlow binary is optimized with oneAPI Deep Neural Network Library (oneDNN) to use the following CPU instructions in performance-critical operations:  AVX2 FMA\n",
      "To enable them in other operations, rebuild TensorFlow with the appropriate compiler flags.\n"
     ]
    }
   ],
   "source": [
    "\n",
    "model = tf.keras.models.load_model(\"models/19_class.h5\")"
   ]
  },
  {
   "cell_type": "code",
   "execution_count": 4,
   "metadata": {},
   "outputs": [],
   "source": [
    "def get_countours(image):\n",
    "    gray = cv.cvtColor(image, cv.COLOR_RGB2GRAY)\n",
    "    edged = cv.adaptiveThreshold(gray, 255, cv.ADAPTIVE_THRESH_MEAN_C,cv.THRESH_BINARY_INV, 11, 4)\n",
    "    (contours, _) = cv.findContours(edged, cv.RETR_EXTERNAL,cv.CHAIN_APPROX_SIMPLE)\n",
    "    return contours\n",
    "\n",
    "def get_bounding_box(contours):\n",
    "    chars_bb = []\n",
    "    for contour in contours:\n",
    "                contour = contour.reshape((contour.shape[0],contour.shape[2]))\n",
    "                left_tc = np.amin(contour, axis=0)\n",
    "                right_bc = np.amax(contour, axis=0)\n",
    "                min_x = left_tc[0]\n",
    "                max_x = right_bc[0]\n",
    "                min_y = left_tc[1]\n",
    "                max_y = right_bc[1]\n",
    "                chars_bb.append([min_x,min_y,max_x,max_y])\n",
    "    return chars_bb\n",
    "\n",
    "def replace_duplicate_chars(chars_bb):\n",
    "    chars_bb.sort()\n",
    "    for i, box in enumerate(chars_bb):\n",
    "        try:\n",
    "            next_box = chars_bb[i+1]\n",
    "        except IndexError:\n",
    "            break\n",
    "   \n",
    "        if abs(box[0] - next_box[0]) <= 30:\n",
    "            min_x = min(box[0],next_box[0])\n",
    "            min_y = min(box[1],next_box[1])\n",
    "            max_x = max(box[2],next_box[2])\n",
    "            max_y = max(box[3],next_box[3])\n",
    "            new_box = [min_x,min_y,max_x,max_y]\n",
    "            chars_bb[i] = new_box\n",
    "            chars_bb.remove(next_box)\n",
    "    return chars_bb\n",
    "    \n",
    "def get_crops(chars_bb, image):\n",
    "    croped_images = []\n",
    "    copy = image.copy()\n",
    "    for box in chars_bb:\n",
    "        x_min = box[0]\n",
    "        y_min = box[1]\n",
    "        height = abs(box[0]-box[2])\n",
    "        width = abs(box[1]-box[3])\n",
    "        character = copy[y_min:y_min+width , x_min:x_min+height]\n",
    "        croped_images.append(character)\n",
    "    return croped_images\n",
    "        \n",
    "def extra_padding(images, padding=50):\n",
    "    padded_images = []\n",
    "    for image in images:\n",
    "        padded_images.append(cv.copyMakeBorder(image, top=padding, bottom=padding, left=padding, right=padding, borderType=cv.BORDER_CONSTANT, value=(255,255,255)))\n",
    "    return padded_images\n",
    "\n",
    "def resize_image(images):\n",
    "    resized_images = []\n",
    "    for img in images:\n",
    "        resized_img = cv.resize(img, (100, 100), interpolation=cv.INTER_LINEAR)\n",
    "        resized_images.append(resized_img)\n",
    "    return resized_images\n",
    "\n",
    "def get_prediction(images):\n",
    "    predictions = []\n",
    "    for image in images:\n",
    "        image = np.expand_dims(image, axis=0)\n",
    "        image = image.astype('float32')/255\n",
    "\n",
    "        prediction = model.predict(image)\n",
    "        label = class_names[np.argmax(prediction)]\n",
    "        confidence = np.max(prediction)*100\n",
    "        confidence = str(confidence)[:2]\n",
    "        predictions.append((label, confidence))\n",
    "    \n",
    "    return predictions\n",
    "\n",
    "def get_eqn(predictions):\n",
    "    eqn = \"\"\n",
    "    for prediction in predictions:\n",
    "        eqn += prediction[0]\n",
    "    return eqn\n"
   ]
  },
  {
   "cell_type": "code",
   "execution_count": 5,
   "metadata": {},
   "outputs": [
    {
     "data": {
      "text/plain": [
       "'7X2+2X-3=0'"
      ]
     },
     "execution_count": 5,
     "metadata": {},
     "output_type": "execute_result"
    }
   ],
   "source": [
    "img_path = 'test_cases/poly_eqn.png'\n",
    "image = cv.imread(img_path)\n",
    "\n",
    "contours = get_countours(image)\n",
    "char_bb = get_bounding_box(contours)\n",
    "char_bb = replace_duplicate_chars(char_bb)\n",
    "cropped_images  = get_crops(char_bb, image)\n",
    "padded_images = extra_padding(cropped_images)\n",
    "resized_images = resize_image(padded_images)\n",
    "predictions = get_prediction(resized_images)\n",
    "eqn = get_eqn(predictions)\n",
    "\n",
    "eqn"
   ]
  },
  {
   "cell_type": "code",
   "execution_count": null,
   "metadata": {},
   "outputs": [],
   "source": []
  },
  {
   "cell_type": "markdown",
   "metadata": {},
   "source": [
    "Looking at the numpy docs for polynomial equations, it appears that there more operations that can be performed than just solvin them.\n",
    "I recommend a brainstorming session with team members to see what they can come up with.\n",
    "\n",
    "https://numpy.org/doc/stable/reference/generated/numpy.poly1d.html"
   ]
  },
  {
   "cell_type": "code",
   "execution_count": null,
   "metadata": {},
   "outputs": [],
   "source": []
  }
 ],
 "metadata": {
  "interpreter": {
   "hash": "4e91133e0c50852c112265b9316cbf86276deb87c7c365c397c1589968664184"
  },
  "kernelspec": {
   "display_name": "Python 3.9.2 64-bit ('env': venv)",
   "language": "python",
   "name": "python3"
  },
  "language_info": {
   "codemirror_mode": {
    "name": "ipython",
    "version": 3
   },
   "file_extension": ".py",
   "mimetype": "text/x-python",
   "name": "python",
   "nbconvert_exporter": "python",
   "pygments_lexer": "ipython3",
   "version": "3.9.2"
  },
  "orig_nbformat": 4
 },
 "nbformat": 4,
 "nbformat_minor": 2
}
