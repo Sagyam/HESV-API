{
 "cells": [
  {
   "cell_type": "code",
   "execution_count": 11,
   "metadata": {},
   "outputs": [],
   "source": [
    "import re\n",
    "import cv2 as cv\n",
    "import tensorflow as tf\n",
    "import numpy as np\n",
    "import matplotlib.pyplot as plt"
   ]
  },
  {
   "cell_type": "markdown",
   "metadata": {},
   "source": [
    "# Define Classes"
   ]
  },
  {
   "cell_type": "code",
   "execution_count": 12,
   "metadata": {},
   "outputs": [],
   "source": [
    "class_names = [\n",
    "    \"0\",\n",
    "    \"1\",\n",
    "    \"2\",\n",
    "    \"3\",\n",
    "    \"4\",\n",
    "    \"5\",\n",
    "    \"6\",\n",
    "    \"7\",\n",
    "    \"8\",\n",
    "    \"9\",\n",
    "    \"+\",\n",
    "    \".\",\n",
    "    \"/\",\n",
    "    \"=\",\n",
    "    \"*\",\n",
    "    \"-\",\n",
    "    \"X\",\n",
    "    \"Y\",\n",
    "    \"Z\",\n",
    "]"
   ]
  },
  {
   "cell_type": "markdown",
   "metadata": {},
   "source": [
    "# Load Model"
   ]
  },
  {
   "cell_type": "code",
   "execution_count": 10,
   "metadata": {},
   "outputs": [
    {
     "ename": "OSError",
     "evalue": "No file or directory found at models/19_class.h5",
     "output_type": "error",
     "traceback": [
      "\u001b[0;31m---------------------------------------------------------------------------\u001b[0m",
      "\u001b[0;31mOSError\u001b[0m                                   Traceback (most recent call last)",
      "\u001b[0;32m/tmp/ipykernel_33409/2917779890.py\u001b[0m in \u001b[0;36m<module>\u001b[0;34m\u001b[0m\n\u001b[0;32m----> 1\u001b[0;31m \u001b[0mmodel\u001b[0m \u001b[0;34m=\u001b[0m \u001b[0mtf\u001b[0m\u001b[0;34m.\u001b[0m\u001b[0mkeras\u001b[0m\u001b[0;34m.\u001b[0m\u001b[0mmodels\u001b[0m\u001b[0;34m.\u001b[0m\u001b[0mload_model\u001b[0m\u001b[0;34m(\u001b[0m\u001b[0;34m\"models/19_class.h5\"\u001b[0m\u001b[0;34m)\u001b[0m\u001b[0;34m\u001b[0m\u001b[0;34m\u001b[0m\u001b[0m\n\u001b[0m",
      "\u001b[0;32m~/Documents/Major-Project-Backend/env/lib/python3.9/site-packages/keras/utils/traceback_utils.py\u001b[0m in \u001b[0;36merror_handler\u001b[0;34m(*args, **kwargs)\u001b[0m\n\u001b[1;32m     65\u001b[0m     \u001b[0;32mexcept\u001b[0m \u001b[0mException\u001b[0m \u001b[0;32mas\u001b[0m \u001b[0me\u001b[0m\u001b[0;34m:\u001b[0m  \u001b[0;31m# pylint: disable=broad-except\u001b[0m\u001b[0;34m\u001b[0m\u001b[0;34m\u001b[0m\u001b[0m\n\u001b[1;32m     66\u001b[0m       \u001b[0mfiltered_tb\u001b[0m \u001b[0;34m=\u001b[0m \u001b[0m_process_traceback_frames\u001b[0m\u001b[0;34m(\u001b[0m\u001b[0me\u001b[0m\u001b[0;34m.\u001b[0m\u001b[0m__traceback__\u001b[0m\u001b[0;34m)\u001b[0m\u001b[0;34m\u001b[0m\u001b[0;34m\u001b[0m\u001b[0m\n\u001b[0;32m---> 67\u001b[0;31m       \u001b[0;32mraise\u001b[0m \u001b[0me\u001b[0m\u001b[0;34m.\u001b[0m\u001b[0mwith_traceback\u001b[0m\u001b[0;34m(\u001b[0m\u001b[0mfiltered_tb\u001b[0m\u001b[0;34m)\u001b[0m \u001b[0;32mfrom\u001b[0m \u001b[0;32mNone\u001b[0m\u001b[0;34m\u001b[0m\u001b[0;34m\u001b[0m\u001b[0m\n\u001b[0m\u001b[1;32m     68\u001b[0m     \u001b[0;32mfinally\u001b[0m\u001b[0;34m:\u001b[0m\u001b[0;34m\u001b[0m\u001b[0;34m\u001b[0m\u001b[0m\n\u001b[1;32m     69\u001b[0m       \u001b[0;32mdel\u001b[0m \u001b[0mfiltered_tb\u001b[0m\u001b[0;34m\u001b[0m\u001b[0;34m\u001b[0m\u001b[0m\n",
      "\u001b[0;32m~/Documents/Major-Project-Backend/env/lib/python3.9/site-packages/keras/saving/save.py\u001b[0m in \u001b[0;36mload_model\u001b[0;34m(filepath, custom_objects, compile, options)\u001b[0m\n\u001b[1;32m    207\u001b[0m         \u001b[0;32mif\u001b[0m \u001b[0misinstance\u001b[0m\u001b[0;34m(\u001b[0m\u001b[0mfilepath\u001b[0m\u001b[0;34m,\u001b[0m \u001b[0mstr\u001b[0m\u001b[0;34m)\u001b[0m\u001b[0;34m:\u001b[0m\u001b[0;34m\u001b[0m\u001b[0;34m\u001b[0m\u001b[0m\n\u001b[1;32m    208\u001b[0m           \u001b[0;32mif\u001b[0m \u001b[0;32mnot\u001b[0m \u001b[0mtf\u001b[0m\u001b[0;34m.\u001b[0m\u001b[0mio\u001b[0m\u001b[0;34m.\u001b[0m\u001b[0mgfile\u001b[0m\u001b[0;34m.\u001b[0m\u001b[0mexists\u001b[0m\u001b[0;34m(\u001b[0m\u001b[0mfilepath\u001b[0m\u001b[0;34m)\u001b[0m\u001b[0;34m:\u001b[0m\u001b[0;34m\u001b[0m\u001b[0;34m\u001b[0m\u001b[0m\n\u001b[0;32m--> 209\u001b[0;31m             \u001b[0;32mraise\u001b[0m \u001b[0mIOError\u001b[0m\u001b[0;34m(\u001b[0m\u001b[0;34mf'No file or directory found at {filepath}'\u001b[0m\u001b[0;34m)\u001b[0m\u001b[0;34m\u001b[0m\u001b[0;34m\u001b[0m\u001b[0m\n\u001b[0m\u001b[1;32m    210\u001b[0m           \u001b[0;32mif\u001b[0m \u001b[0msaving_utils\u001b[0m\u001b[0;34m.\u001b[0m\u001b[0mis_hdf5_filepath\u001b[0m\u001b[0;34m(\u001b[0m\u001b[0mfilepath\u001b[0m\u001b[0;34m)\u001b[0m \u001b[0;32mand\u001b[0m \u001b[0mh5py\u001b[0m \u001b[0;32mis\u001b[0m \u001b[0;32mNone\u001b[0m\u001b[0;34m:\u001b[0m\u001b[0;34m\u001b[0m\u001b[0;34m\u001b[0m\u001b[0m\n\u001b[1;32m    211\u001b[0m             raise ImportError(\n",
      "\u001b[0;31mOSError\u001b[0m: No file or directory found at models/19_class.h5"
     ]
    }
   ],
   "source": [
    "\n",
    "model = tf.keras.models.load_model(\"models/19_class.h5\")"
   ]
  },
  {
   "cell_type": "markdown",
   "metadata": {},
   "source": [
    "# Obtain the eqn from image"
   ]
  },
  {
   "cell_type": "code",
   "execution_count": 13,
   "metadata": {},
   "outputs": [],
   "source": [
    "def get_countours(image):\n",
    "    gray = cv.cvtColor(image, cv.COLOR_RGB2GRAY)\n",
    "    edged = cv.adaptiveThreshold(gray, 255, cv.ADAPTIVE_THRESH_MEAN_C,cv.THRESH_BINARY_INV, 11, 4)\n",
    "    (contours, _) = cv.findContours(edged, cv.RETR_EXTERNAL,cv.CHAIN_APPROX_SIMPLE)\n",
    "    return contours\n",
    "\n",
    "def get_bounding_box(contours):\n",
    "    chars_bb = []\n",
    "    for contour in contours:\n",
    "                contour = contour.reshape((contour.shape[0],contour.shape[2]))\n",
    "                left_tc = np.amin(contour, axis=0)\n",
    "                right_bc = np.amax(contour, axis=0)\n",
    "                min_x = left_tc[0]\n",
    "                max_x = right_bc[0]\n",
    "                min_y = left_tc[1]\n",
    "                max_y = right_bc[1]\n",
    "                chars_bb.append([min_x,min_y,max_x,max_y])\n",
    "    return chars_bb\n",
    "\n",
    "def replace_duplicate_chars(chars_bb):\n",
    "    chars_bb.sort()\n",
    "    for i, box in enumerate(chars_bb):\n",
    "        try:\n",
    "            next_box = chars_bb[i+1]\n",
    "        except IndexError:\n",
    "            break\n",
    "   \n",
    "        if abs(box[0] - next_box[0]) <= 30:\n",
    "            min_x = min(box[0],next_box[0])\n",
    "            min_y = min(box[1],next_box[1])\n",
    "            max_x = max(box[2],next_box[2])\n",
    "            max_y = max(box[3],next_box[3])\n",
    "            new_box = [min_x,min_y,max_x,max_y]\n",
    "            chars_bb[i] = new_box\n",
    "            chars_bb.remove(next_box)\n",
    "    return chars_bb\n",
    "    \n",
    "def get_crops(chars_bb, image):\n",
    "    croped_images = []\n",
    "    copy = image.copy()\n",
    "    for box in chars_bb:\n",
    "        x_min = box[0]\n",
    "        y_min = box[1]\n",
    "        height = abs(box[0]-box[2])\n",
    "        width = abs(box[1]-box[3])\n",
    "        character = copy[y_min:y_min+width , x_min:x_min+height]\n",
    "        croped_images.append(character)\n",
    "    return croped_images\n",
    "        \n",
    "def extra_padding(images, padding=50):\n",
    "    padded_images = []\n",
    "    for image in images:\n",
    "        padded_images.append(cv.copyMakeBorder(image, top=padding, bottom=padding, left=padding, right=padding, borderType=cv.BORDER_CONSTANT, value=(255,255,255)))\n",
    "    return padded_images\n",
    "\n",
    "def resize_image(images):\n",
    "    resized_images = []\n",
    "    for img in images:\n",
    "        resized_img = cv.resize(img, (100, 100), interpolation=cv.INTER_LINEAR)\n",
    "        resized_images.append(resized_img)\n",
    "    return resized_images\n",
    "\n",
    "def get_prediction(images):\n",
    "    predictions = []\n",
    "    for image in images:\n",
    "        image = np.expand_dims(image, axis=0)\n",
    "        image = image.astype('float32')/255\n",
    "\n",
    "        prediction = model.predict(image)\n",
    "        label = class_names[np.argmax(prediction)]\n",
    "        confidence = np.max(prediction)*100\n",
    "        confidence = str(confidence)[:2]\n",
    "        predictions.append((label, confidence))\n",
    "    \n",
    "    return predictions\n",
    "\n",
    "def get_eqn(predictions):\n",
    "    eqn = \"\"\n",
    "    for prediction in predictions:\n",
    "        eqn += prediction[0]\n",
    "    return eqn\n"
   ]
  },
  {
   "cell_type": "code",
   "execution_count": 14,
   "metadata": {},
   "outputs": [
    {
     "ename": "error",
     "evalue": "OpenCV(4.5.4) /tmp/pip-req-build-kv0l0wqx/opencv/modules/imgproc/src/color.cpp:182: error: (-215:Assertion failed) !_src.empty() in function 'cvtColor'\n",
     "output_type": "error",
     "traceback": [
      "\u001b[0;31m---------------------------------------------------------------------------\u001b[0m",
      "\u001b[0;31merror\u001b[0m                                     Traceback (most recent call last)",
      "\u001b[0;32m/tmp/ipykernel_33409/922579846.py\u001b[0m in \u001b[0;36m<module>\u001b[0;34m\u001b[0m\n\u001b[1;32m      2\u001b[0m \u001b[0mimage\u001b[0m \u001b[0;34m=\u001b[0m \u001b[0mcv\u001b[0m\u001b[0;34m.\u001b[0m\u001b[0mimread\u001b[0m\u001b[0;34m(\u001b[0m\u001b[0mimg_path\u001b[0m\u001b[0;34m)\u001b[0m\u001b[0;34m\u001b[0m\u001b[0;34m\u001b[0m\u001b[0m\n\u001b[1;32m      3\u001b[0m \u001b[0;34m\u001b[0m\u001b[0m\n\u001b[0;32m----> 4\u001b[0;31m \u001b[0mcontours\u001b[0m \u001b[0;34m=\u001b[0m \u001b[0mget_countours\u001b[0m\u001b[0;34m(\u001b[0m\u001b[0mimage\u001b[0m\u001b[0;34m)\u001b[0m\u001b[0;34m\u001b[0m\u001b[0;34m\u001b[0m\u001b[0m\n\u001b[0m\u001b[1;32m      5\u001b[0m \u001b[0mchar_bb\u001b[0m \u001b[0;34m=\u001b[0m \u001b[0mget_bounding_box\u001b[0m\u001b[0;34m(\u001b[0m\u001b[0mcontours\u001b[0m\u001b[0;34m)\u001b[0m\u001b[0;34m\u001b[0m\u001b[0;34m\u001b[0m\u001b[0m\n\u001b[1;32m      6\u001b[0m \u001b[0mchar_bb\u001b[0m \u001b[0;34m=\u001b[0m \u001b[0mreplace_duplicate_chars\u001b[0m\u001b[0;34m(\u001b[0m\u001b[0mchar_bb\u001b[0m\u001b[0;34m)\u001b[0m\u001b[0;34m\u001b[0m\u001b[0;34m\u001b[0m\u001b[0m\n",
      "\u001b[0;32m/tmp/ipykernel_33409/530950463.py\u001b[0m in \u001b[0;36mget_countours\u001b[0;34m(image)\u001b[0m\n\u001b[1;32m      1\u001b[0m \u001b[0;32mdef\u001b[0m \u001b[0mget_countours\u001b[0m\u001b[0;34m(\u001b[0m\u001b[0mimage\u001b[0m\u001b[0;34m)\u001b[0m\u001b[0;34m:\u001b[0m\u001b[0;34m\u001b[0m\u001b[0;34m\u001b[0m\u001b[0m\n\u001b[0;32m----> 2\u001b[0;31m     \u001b[0mgray\u001b[0m \u001b[0;34m=\u001b[0m \u001b[0mcv\u001b[0m\u001b[0;34m.\u001b[0m\u001b[0mcvtColor\u001b[0m\u001b[0;34m(\u001b[0m\u001b[0mimage\u001b[0m\u001b[0;34m,\u001b[0m \u001b[0mcv\u001b[0m\u001b[0;34m.\u001b[0m\u001b[0mCOLOR_RGB2GRAY\u001b[0m\u001b[0;34m)\u001b[0m\u001b[0;34m\u001b[0m\u001b[0;34m\u001b[0m\u001b[0m\n\u001b[0m\u001b[1;32m      3\u001b[0m     \u001b[0medged\u001b[0m \u001b[0;34m=\u001b[0m \u001b[0mcv\u001b[0m\u001b[0;34m.\u001b[0m\u001b[0madaptiveThreshold\u001b[0m\u001b[0;34m(\u001b[0m\u001b[0mgray\u001b[0m\u001b[0;34m,\u001b[0m \u001b[0;36m255\u001b[0m\u001b[0;34m,\u001b[0m \u001b[0mcv\u001b[0m\u001b[0;34m.\u001b[0m\u001b[0mADAPTIVE_THRESH_MEAN_C\u001b[0m\u001b[0;34m,\u001b[0m\u001b[0mcv\u001b[0m\u001b[0;34m.\u001b[0m\u001b[0mTHRESH_BINARY_INV\u001b[0m\u001b[0;34m,\u001b[0m \u001b[0;36m11\u001b[0m\u001b[0;34m,\u001b[0m \u001b[0;36m4\u001b[0m\u001b[0;34m)\u001b[0m\u001b[0;34m\u001b[0m\u001b[0;34m\u001b[0m\u001b[0m\n\u001b[1;32m      4\u001b[0m     \u001b[0;34m(\u001b[0m\u001b[0mcontours\u001b[0m\u001b[0;34m,\u001b[0m \u001b[0m_\u001b[0m\u001b[0;34m)\u001b[0m \u001b[0;34m=\u001b[0m \u001b[0mcv\u001b[0m\u001b[0;34m.\u001b[0m\u001b[0mfindContours\u001b[0m\u001b[0;34m(\u001b[0m\u001b[0medged\u001b[0m\u001b[0;34m,\u001b[0m \u001b[0mcv\u001b[0m\u001b[0;34m.\u001b[0m\u001b[0mRETR_EXTERNAL\u001b[0m\u001b[0;34m,\u001b[0m\u001b[0mcv\u001b[0m\u001b[0;34m.\u001b[0m\u001b[0mCHAIN_APPROX_SIMPLE\u001b[0m\u001b[0;34m)\u001b[0m\u001b[0;34m\u001b[0m\u001b[0;34m\u001b[0m\u001b[0m\n\u001b[1;32m      5\u001b[0m     \u001b[0;32mreturn\u001b[0m \u001b[0mcontours\u001b[0m\u001b[0;34m\u001b[0m\u001b[0;34m\u001b[0m\u001b[0m\n",
      "\u001b[0;31merror\u001b[0m: OpenCV(4.5.4) /tmp/pip-req-build-kv0l0wqx/opencv/modules/imgproc/src/color.cpp:182: error: (-215:Assertion failed) !_src.empty() in function 'cvtColor'\n"
     ]
    }
   ],
   "source": [
    "img_path = 'test_cases/lin_eqn.png'\n",
    "image = cv.imread(img_path)\n",
    "\n",
    "contours = get_countours(image)\n",
    "char_bb = get_bounding_box(contours)\n",
    "char_bb = replace_duplicate_chars(char_bb)\n",
    "cropped_images  = get_crops(char_bb, image)\n",
    "padded_images = extra_padding(cropped_images)\n",
    "resized_images = resize_image(padded_images)\n",
    "predictions = get_prediction(resized_images)\n",
    "eqn = get_eqn(predictions)\n",
    "\n",
    "eqn"
   ]
  },
  {
   "cell_type": "markdown",
   "metadata": {},
   "source": [
    "# Standardize the equation"
   ]
  },
  {
   "cell_type": "code",
   "execution_count": 15,
   "metadata": {},
   "outputs": [],
   "source": [
    "def contains_nums(string):\n",
    "    return any(i.isdigit() for i in string)\n",
    "\n",
    "\n",
    "def standardize_eqn(equation):\n",
    "    \"\"\"\n",
    "    Standardizes an equation by removing = and shift intercept to left.\n",
    "    :param equation: equation to standardize eg 2x+3y=7\n",
    "    :return: standardized equation eg 2x+3y-7\n",
    "    \"\"\"\n",
    "    left, right = equation.split('=')[0], equation.split('=')[1]\n",
    "    \n",
    "    left_sub = re.sub(\"[+-]?\\d+[XxYyZz]|[+-]?\\d+\\.\\d+[XxYyZz]\",\"\", left)\n",
    "    \n",
    "    if left_sub == '': \n",
    "        intercept = -1* float(right)\n",
    "        if intercept > 0.0: intercept = '+' + str(intercept)\n",
    "        equation = left+ str(intercept)\n",
    "\n",
    "    elif left_sub == left:\n",
    "        intercept = -1* float(right)\n",
    "        if intercept > 0.0: intercept = '+' + str(intercept)     \n",
    "        equation = left+ str(intercept)\n",
    "    \n",
    "    elif contains_nums(left_sub):\n",
    "        equation = left\n",
    "    \n",
    "    elif not contains_nums(left_sub):\n",
    "        intercept = -1* float(right)\n",
    "        if intercept > 0.0: intercept = '+' + str(intercept)      \n",
    "        equation = left+ str(intercept)\n",
    "        \n",
    "    else:\n",
    "        equation = left\n",
    "        \n",
    "    \n",
    "    return equation"
   ]
  },
  {
   "cell_type": "code",
   "execution_count": 16,
   "metadata": {},
   "outputs": [
    {
     "name": "stdout",
     "output_type": "stream",
     "text": [
      "2x+3y-7.0\n",
      "x+y-7.0\n",
      "3x+2y-7\n",
      "-7+3x-2y\n",
      "7+3x-2y\n",
      "3x+5y+8\n",
      "x-3.0\n",
      "x+y+z-0.0\n",
      "x+4y-2.0\n",
      "2x-y+2.0\n",
      "x-y+10.0\n"
     ]
    }
   ],
   "source": [
    "eqn_list = [\"2x+3y=7\", \"x+y=7\",\"3x+2y-7=0\", \"-7+3x-2y=0\", \"7+3x-2y=0\",\"3x+5y+8=0\", \"x=3\",\"x+y+z=0\",'x+4y=2','2x-y=-2','x-y=-10']\n",
    "for eqn in eqn_list:\n",
    "    print(standardize_eqn(eqn))"
   ]
  },
  {
   "cell_type": "markdown",
   "metadata": {},
   "source": [
    "### This function takes standardized eqn and returns their coefficient and intercept"
   ]
  },
  {
   "cell_type": "code",
   "execution_count": 17,
   "metadata": {},
   "outputs": [],
   "source": [
    "def get_coffecient_2d(equation):   \n",
    "    \"\"\"\n",
    "    Returns the coefficients and intercept of the 2nd degree term in an equation.\n",
    "    :param : eg: 2x+3y=7\n",
    "    :return: eg: (2,3,7)\n",
    "    \"\"\" \n",
    "    try:\n",
    "        coef_x = re.findall('-?[0-9.]*[Xx]', equation)[0][:-1]\n",
    "    except:\n",
    "        coef_x = 0.0\n",
    "    \n",
    "    try:\n",
    "        coef_y = re.findall('-?[0-9.]*[Yy]', equation)[0][:-1]\n",
    "    except:\n",
    "        coef_y = 0.0\n",
    "    \n",
    "    intercept = re.sub(\"[+-]?\\d+[XxYy]|[+-]?\\d+\\.\\d+[XxYy]\",\"\", equation)\n",
    "    intercept = re.findall('[+-]+\\d+', intercept)[0]\n",
    "\n",
    "    if coef_x == '': coef_x =1.0\n",
    "    elif coef_x == '-': coef_x=-1.0\n",
    "    \n",
    "    if coef_y == '': coef_y =1.0\n",
    "    elif coef_y == '-': coef_y=-1.0\n",
    "   \n",
    "\n",
    "    return [float(coef_x), float(coef_y), float(intercept)]"
   ]
  },
  {
   "cell_type": "code",
   "execution_count": 18,
   "metadata": {},
   "outputs": [
    {
     "name": "stdout",
     "output_type": "stream",
     "text": [
      "[2.0, 3.0, 1.0]\n",
      "[1.0, 1.0, 1.0]\n",
      "[1.0, -3.0, -5.0]\n",
      "[-1.0, 3.0, 7.0]\n",
      "[1.0, 0.0, -3.0]\n"
     ]
    }
   ],
   "source": [
    "eqn_list = ['2x+3y+1', 'x+y+1', 'x-3.0y-5', '-x+3y+7.0', 'x-3.0']\n",
    "for eqn in eqn_list:\n",
    "    print(get_coffecient_2d(eqn))"
   ]
  },
  {
   "cell_type": "code",
   "execution_count": 19,
   "metadata": {},
   "outputs": [],
   "source": [
    "def get_coffecient_3d(equation):   \n",
    "    \"\"\"\n",
    "    Returns the coefficients and intercept of the 2nd degree term in an equation.\n",
    "    :param : eg: 2x+3y=7\n",
    "    :return: eg: (2,3,7)\n",
    "    \"\"\" \n",
    "    try:\n",
    "        coef_x = re.findall('-?[0-9.]*[Xx]', equation)[0][:-1]\n",
    "    except:\n",
    "        coef_x = 0.0\n",
    "    \n",
    "    try:\n",
    "        coef_y = re.findall('-?[0-9.]*[Yy]', equation)[0][:-1]\n",
    "    except:\n",
    "        coef_y = 0.0\n",
    "        \n",
    "    try:\n",
    "        coef_z = re.findall('-?[0-9.]*[Zz]', equation)[0][:-1]\n",
    "    except:\n",
    "        coef_z = 0.0\n",
    "    \n",
    "    intercept = re.sub(\"[+-]?\\d+[XxYyZz]|[+-]?\\d+\\.\\d+[XxYyZz]\",\"\", equation)\n",
    "    intercept = re.findall('[+-]+\\d+', intercept)[0]\n",
    "\n",
    "    if coef_x == '': coef_x =1.0\n",
    "    elif coef_x == '-': coef_x=-1.0\n",
    "    \n",
    "    if coef_y == '': coef_y =1.0\n",
    "    elif coef_y == '-': coef_y=-1.0\n",
    "    \n",
    "    if coef_z == '': coef_z =1.0\n",
    "    elif coef_z == '-': coef_z=-1.0\n",
    "   \n",
    "\n",
    "    return [float(coef_x), float(coef_y), float(coef_z),float(intercept)]"
   ]
  },
  {
   "cell_type": "code",
   "execution_count": 20,
   "metadata": {},
   "outputs": [
    {
     "name": "stdout",
     "output_type": "stream",
     "text": [
      "[1.0, 1.0, 1.0, 1.0]\n",
      "[1.0, 1.0, 0.0, 10.0]\n",
      "[-1.0, 1.0, 3.0, -0.0]\n"
     ]
    }
   ],
   "source": [
    "eqn_list = ['x+y+z+1','x+y+10','-x+y+3z-0.0']\n",
    "for eqn in eqn_list:\n",
    "    print(get_coffecient_3d(eqn))"
   ]
  },
  {
   "cell_type": "markdown",
   "metadata": {},
   "source": [
    "# Try solving some eqn"
   ]
  },
  {
   "cell_type": "code",
   "execution_count": 21,
   "metadata": {},
   "outputs": [],
   "source": [
    "def solve_2d(equtations):\n",
    "    a = []\n",
    "    b = []\n",
    "    for i,eqn in enumerate(equtations):\n",
    "        std_eqn = standardize_eqn(eqn)\n",
    "        x,y, c = get_coffecient_2d(std_eqn)\n",
    "        a.append([x,y])\n",
    "        b.append(c)\n",
    "    \n",
    "    a,b = np.asanyarray(a), np.asanyarray(b)\n",
    "    \n",
    "    try:\n",
    "        soln = np.linalg.solve(a, b)\n",
    "    except:\n",
    "        soln='No Solution'\n",
    "    \n",
    "    return soln\n",
    "        \n",
    "        "
   ]
  },
  {
   "cell_type": "code",
   "execution_count": 22,
   "metadata": {},
   "outputs": [
    {
     "data": {
      "text/plain": [
       "array([ 2.71428571, -3.28571429])"
      ]
     },
     "execution_count": 22,
     "metadata": {},
     "output_type": "execute_result"
    }
   ],
   "source": [
    "eqns = [\n",
    "  '3x+4y=5',\n",
    "'x-y+6=0'\n",
    "]\n",
    "\n",
    "solve_2d(eqns)"
   ]
  },
  {
   "cell_type": "code",
   "execution_count": 23,
   "metadata": {},
   "outputs": [],
   "source": [
    "def solve_3d(equtations):\n",
    "    a = []\n",
    "    b = []\n",
    "    for i,eqn in enumerate(equtations):\n",
    "        std_eqn = standardize_eqn(eqn)\n",
    "        x,y,z, c = get_coffecient_3d(std_eqn)\n",
    "        a.append([x,y,z])\n",
    "        b.append(c)\n",
    "    \n",
    "    a,b = np.asanyarray(a), np.asanyarray(b)\n",
    "    try:\n",
    "        soln = np.linalg.solve(a, b)\n",
    "    except:\n",
    "        soln='No Solution'    \n",
    "\n",
    "    \n",
    "    return soln\n",
    "        \n",
    "        "
   ]
  },
  {
   "cell_type": "code",
   "execution_count": 24,
   "metadata": {},
   "outputs": [
    {
     "data": {
      "text/plain": [
       "'No Solution'"
      ]
     },
     "execution_count": 24,
     "metadata": {},
     "output_type": "execute_result"
    }
   ],
   "source": [
    "eqns = [\n",
    "   'x+y=9',\n",
    "   'x+5y=10',\n",
    "   'x+y=11'\n",
    "]\n",
    "\n",
    "solve_3d(eqns)"
   ]
  },
  {
   "cell_type": "code",
   "execution_count": null,
   "metadata": {},
   "outputs": [],
   "source": []
  }
 ],
 "metadata": {
  "interpreter": {
   "hash": "4e91133e0c50852c112265b9316cbf86276deb87c7c365c397c1589968664184"
  },
  "kernelspec": {
   "display_name": "Python 3.9.2 64-bit ('env': venv)",
   "language": "python",
   "name": "python3"
  },
  "language_info": {
   "codemirror_mode": {
    "name": "ipython",
    "version": 3
   },
   "file_extension": ".py",
   "mimetype": "text/x-python",
   "name": "python",
   "nbconvert_exporter": "python",
   "pygments_lexer": "ipython3",
   "version": "3.9.2"
  },
  "orig_nbformat": 4
 },
 "nbformat": 4,
 "nbformat_minor": 2
}
