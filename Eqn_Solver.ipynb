{
 "cells": [
  {
   "cell_type": "code",
   "execution_count": 1,
   "metadata": {},
   "outputs": [],
   "source": [
    "import re\n"
   ]
  },
  {
   "cell_type": "markdown",
   "metadata": {},
   "source": [
    "# Standardize the equation"
   ]
  },
  {
   "cell_type": "code",
   "execution_count": 2,
   "metadata": {},
   "outputs": [],
   "source": [
    "# todo\n",
    "def standardize_eqn(equattion):\n",
    "    pass"
   ]
  },
  {
   "cell_type": "markdown",
   "metadata": {},
   "source": [
    "### This function takes standardized eqn and returns their coefficient and intercept"
   ]
  },
  {
   "cell_type": "code",
   "execution_count": 3,
   "metadata": {},
   "outputs": [],
   "source": [
    "def get_coff_2d(equation):   \n",
    "     \n",
    "    coef_x = re.findall('-?[0-9.]*[Xx]', equation)[0][:-1]\n",
    "    coef_y = re.findall('-?[0-9.]*[Yy]', equation)[0][:-1]\n",
    "    \n",
    "    intercept = re.sub(\"[+-]?\\d+[XxYy]|[+-]?\\d+\\.\\d+[XxYy]\",\"\", equation)\n",
    "    intercept = re.findall('[+-]+\\d+', intercept)[0]\n",
    "\n",
    "    if coef_x == '': coef_x =1.0\n",
    "    elif coef_x == '-': coef_x=-1.0\n",
    "    \n",
    "    if coef_y == '': coef_y =1.0\n",
    "    elif coef_y == '-': coef_y=-1.0\n",
    "   \n",
    "\n",
    "    return [coef_x, coef_y, float(intercept)]"
   ]
  },
  {
   "cell_type": "code",
   "execution_count": 4,
   "metadata": {},
   "outputs": [
    {
     "name": "stdout",
     "output_type": "stream",
     "text": [
      "['2', '3', 1.0]\n",
      "[1.0, 1.0, 1.0]\n",
      "[1.0, '-3', -5.0]\n",
      "[-1.0, '3', 7.0]\n"
     ]
    }
   ],
   "source": [
    "eqn_list = ['2x+3y+1', 'x+y+1', 'x-3y-5', '-x+3y+7']\n",
    "for eqn in eqn_list:\n",
    "    print(get_coff_2d(eqn))"
   ]
  },
  {
   "cell_type": "code",
   "execution_count": null,
   "metadata": {},
   "outputs": [],
   "source": []
  },
  {
   "cell_type": "code",
   "execution_count": null,
   "metadata": {},
   "outputs": [],
   "source": []
  }
 ],
 "metadata": {
  "interpreter": {
   "hash": "4e91133e0c50852c112265b9316cbf86276deb87c7c365c397c1589968664184"
  },
  "kernelspec": {
   "display_name": "Python 3.9.2 64-bit ('env': venv)",
   "language": "python",
   "name": "python3"
  },
  "language_info": {
   "codemirror_mode": {
    "name": "ipython",
    "version": 3
   },
   "file_extension": ".py",
   "mimetype": "text/x-python",
   "name": "python",
   "nbconvert_exporter": "python",
   "pygments_lexer": "ipython3",
   "version": "3.9.2"
  },
  "orig_nbformat": 4
 },
 "nbformat": 4,
 "nbformat_minor": 2
}
