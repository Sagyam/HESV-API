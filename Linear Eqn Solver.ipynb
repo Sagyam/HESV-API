{
 "cells": [
  {
   "cell_type": "code",
   "execution_count": 2,
   "metadata": {},
   "outputs": [],
   "source": [
    "import re\n",
    "import numpy as np"
   ]
  },
  {
   "cell_type": "markdown",
   "metadata": {},
   "source": [
    "# Standardize the equation"
   ]
  },
  {
   "cell_type": "code",
   "execution_count": 77,
   "metadata": {},
   "outputs": [],
   "source": [
    "def contains_nums(string):\n",
    "    return any(i.isdigit() for i in string)\n",
    "\n",
    "\n",
    "def standardize_eqn(equation):\n",
    "    \"\"\"\n",
    "    Standardizes an equation by removing = and shift intercept to left.\n",
    "    :param equation: equation to standardize eg 2x+3y=7\n",
    "    :return: standardized equation eg 2x+3y-7\n",
    "    \"\"\"\n",
    "    left, right = equation.split('=')[0], equation.split('=')[1]\n",
    "    \n",
    "    left_sub = re.sub(\"[+-]?\\d+[XxYyZz]|[+-]?\\d+\\.\\d+[XxYyZz]\",\"\", left)\n",
    "    \n",
    "    if left_sub == '': \n",
    "        intercept = -1* float(right)\n",
    "        if intercept > 0.0: intercept = '+' + str(intercept)\n",
    "        equation = left+ str(intercept)\n",
    "\n",
    "    elif left_sub == left:\n",
    "        intercept = -1* float(right)\n",
    "        equation = left+ str(intercept)\n",
    "    \n",
    "    elif contains_nums(left_sub):\n",
    "        equation = left\n",
    "    \n",
    "    elif not contains_nums(left_sub):\n",
    "        intercept = -1* float(right)\n",
    "        if intercept > 0.0: intercept = '+' + str(intercept)      \n",
    "        equation = left+ str(intercept)\n",
    "        \n",
    "    else:\n",
    "        equation = left\n",
    "        \n",
    "    \n",
    "    return equation"
   ]
  },
  {
   "cell_type": "code",
   "execution_count": 79,
   "metadata": {},
   "outputs": [
    {
     "name": "stdout",
     "output_type": "stream",
     "text": [
      "2x+3y-7.0\n",
      "x+y-7.0\n",
      "3x+2y-7\n",
      "-7+3x-2y\n",
      "7+3x-2y\n",
      "3x+5y+8\n",
      "x-3.0\n",
      "x+y+z-0.0\n",
      "x+4y-2.0\n",
      "2x-y+2.0\n"
     ]
    }
   ],
   "source": [
    "eqn_list = [\"2x+3y=7\", \"x+y=7\",\"3x+2y-7=0\", \"-7+3x-2y=0\", \"7+3x-2y=0\",\"3x+5y+8=0\", \"x=3\",\"x+y+z=0\",'x+4y=2','2x-y=-2']\n",
    "for eqn in eqn_list:\n",
    "    print(standardize_eqn(eqn))"
   ]
  },
  {
   "cell_type": "markdown",
   "metadata": {},
   "source": [
    "### This function takes standardized eqn and returns their coefficient and intercept"
   ]
  },
  {
   "cell_type": "code",
   "execution_count": 5,
   "metadata": {},
   "outputs": [],
   "source": [
    "def get_coffecient_2d(equation):   \n",
    "    \"\"\"\n",
    "    Returns the coefficients and intercept of the 2nd degree term in an equation.\n",
    "    :param : eg: 2x+3y=7\n",
    "    :return: eg: (2,3,7)\n",
    "    \"\"\" \n",
    "    try:\n",
    "        coef_x = re.findall('-?[0-9.]*[Xx]', equation)[0][:-1]\n",
    "    except:\n",
    "        coef_x = 0.0\n",
    "    \n",
    "    try:\n",
    "        coef_y = re.findall('-?[0-9.]*[Yy]', equation)[0][:-1]\n",
    "    except:\n",
    "        coef_y = 0.0\n",
    "    \n",
    "    intercept = re.sub(\"[+-]?\\d+[XxYy]|[+-]?\\d+\\.\\d+[XxYy]\",\"\", equation)\n",
    "    intercept = re.findall('[+-]+\\d+', intercept)[0]\n",
    "\n",
    "    if coef_x == '': coef_x =1.0\n",
    "    elif coef_x == '-': coef_x=-1.0\n",
    "    \n",
    "    if coef_y == '': coef_y =1.0\n",
    "    elif coef_y == '-': coef_y=-1.0\n",
    "   \n",
    "\n",
    "    return [float(coef_x), float(coef_y), float(intercept)]"
   ]
  },
  {
   "cell_type": "code",
   "execution_count": 6,
   "metadata": {},
   "outputs": [
    {
     "name": "stdout",
     "output_type": "stream",
     "text": [
      "[2.0, 3.0, 1.0]\n",
      "[1.0, 1.0, 1.0]\n",
      "[1.0, -3.0, -5.0]\n",
      "[-1.0, 3.0, 7.0]\n",
      "[1.0, 0.0, -3.0]\n"
     ]
    }
   ],
   "source": [
    "eqn_list = ['2x+3y+1', 'x+y+1', 'x-3.0y-5', '-x+3y+7.0', 'x-3.0']\n",
    "for eqn in eqn_list:\n",
    "    print(get_coffecient_2d(eqn))"
   ]
  },
  {
   "cell_type": "code",
   "execution_count": 7,
   "metadata": {},
   "outputs": [],
   "source": [
    "def get_coffecient_3d(equation):   \n",
    "    \"\"\"\n",
    "    Returns the coefficients and intercept of the 2nd degree term in an equation.\n",
    "    :param : eg: 2x+3y=7\n",
    "    :return: eg: (2,3,7)\n",
    "    \"\"\" \n",
    "    try:\n",
    "        coef_x = re.findall('-?[0-9.]*[Xx]', equation)[0][:-1]\n",
    "    except:\n",
    "        coef_x = 0.0\n",
    "    \n",
    "    try:\n",
    "        coef_y = re.findall('-?[0-9.]*[Yy]', equation)[0][:-1]\n",
    "    except:\n",
    "        coef_y = 0.0\n",
    "        \n",
    "    try:\n",
    "        coef_z = re.findall('-?[0-9.]*[Zz]', equation)[0][:-1]\n",
    "    except:\n",
    "        coef_z = 0.0\n",
    "    \n",
    "    intercept = re.sub(\"[+-]?\\d+[XxYyZz]|[+-]?\\d+\\.\\d+[XxYyZz]\",\"\", equation)\n",
    "    intercept = re.findall('[+-]+\\d+', intercept)[0]\n",
    "\n",
    "    if coef_x == '': coef_x =1.0\n",
    "    elif coef_x == '-': coef_x=-1.0\n",
    "    \n",
    "    if coef_y == '': coef_y =1.0\n",
    "    elif coef_y == '-': coef_y=-1.0\n",
    "    \n",
    "    if coef_z == '': coef_z =1.0\n",
    "    elif coef_z == '-': coef_z=-1.0\n",
    "   \n",
    "\n",
    "    return [float(coef_x), float(coef_y), float(coef_z),float(intercept)]"
   ]
  },
  {
   "cell_type": "code",
   "execution_count": 8,
   "metadata": {},
   "outputs": [
    {
     "name": "stdout",
     "output_type": "stream",
     "text": [
      "[1.0, 1.0, 1.0, 1.0]\n",
      "[1.0, 1.0, 0.0, 10.0]\n",
      "[-1.0, 1.0, 3.0, -0.0]\n"
     ]
    }
   ],
   "source": [
    "eqn_list = ['x+y+z+1','x+y+10','-x+y+3z-0.0']\n",
    "for eqn in eqn_list:\n",
    "    print(get_coffecient_3d(eqn))"
   ]
  },
  {
   "cell_type": "markdown",
   "metadata": {},
   "source": [
    "# Try solving some eqn"
   ]
  },
  {
   "cell_type": "code",
   "execution_count": 9,
   "metadata": {},
   "outputs": [],
   "source": [
    "def solve_2d(equtations):\n",
    "    a = []\n",
    "    b = []\n",
    "    for i,eqn in enumerate(equtations):\n",
    "        std_eqn = standardize_eqn(eqn)\n",
    "        x,y, c = get_coffecient_2d(std_eqn)\n",
    "        a.append([x,y])\n",
    "        b.append(c)\n",
    "    \n",
    "    a,b = np.asanyarray(a), np.asanyarray(b)    \n",
    "    soln = np.linalg.solve(a, b)\n",
    "    \n",
    "    return soln\n",
    "        \n",
    "        "
   ]
  },
  {
   "cell_type": "code",
   "execution_count": null,
   "metadata": {},
   "outputs": [],
   "source": [
    "eqns = [\n",
    "    'x+y=10',\n",
    "    'x-y=-10',\n",
    "]\n",
    "\n",
    "solve_2d(eqns)"
   ]
  },
  {
   "cell_type": "code",
   "execution_count": 48,
   "metadata": {},
   "outputs": [],
   "source": [
    "def solve_3d(equtations):\n",
    "    a = []\n",
    "    b = []\n",
    "    for i,eqn in enumerate(equtations):\n",
    "        std_eqn = standardize_eqn(eqn)\n",
    "        x,y,z, c = get_coffecient_3d(std_eqn)\n",
    "        a.append([x,y,z])\n",
    "        b.append(c)\n",
    "    \n",
    "    a,b = np.asanyarray(a), np.asanyarray(b)    \n",
    "    soln = np.linalg.solve(a, b)\n",
    "    \n",
    "    return soln\n",
    "        \n",
    "        "
   ]
  },
  {
   "cell_type": "code",
   "execution_count": 81,
   "metadata": {},
   "outputs": [
    {
     "name": "stdout",
     "output_type": "stream",
     "text": [
      "-9x+y-0.0\n",
      "7x+y+10.0\n",
      "4x+3z-8\n"
     ]
    },
    {
     "data": {
      "text/plain": [
       "array([ 0.625,  5.625, -3.5  ])"
      ]
     },
     "execution_count": 81,
     "metadata": {},
     "output_type": "execute_result"
    }
   ],
   "source": [
    "eqns = [\n",
    "   '-9x+y=0',\n",
    "   '7x+y=-10',\n",
    "   '4x+3z-8=0'\n",
    "]\n",
    "\n",
    "solve_3d(eqns)"
   ]
  },
  {
   "cell_type": "code",
   "execution_count": null,
   "metadata": {},
   "outputs": [],
   "source": []
  }
 ],
 "metadata": {
  "interpreter": {
   "hash": "4e91133e0c50852c112265b9316cbf86276deb87c7c365c397c1589968664184"
  },
  "kernelspec": {
   "display_name": "Python 3.9.2 64-bit ('env': venv)",
   "language": "python",
   "name": "python3"
  },
  "language_info": {
   "codemirror_mode": {
    "name": "ipython",
    "version": 3
   },
   "file_extension": ".py",
   "mimetype": "text/x-python",
   "name": "python",
   "nbconvert_exporter": "python",
   "pygments_lexer": "ipython3",
   "version": "3.9.2"
  },
  "orig_nbformat": 4
 },
 "nbformat": 4,
 "nbformat_minor": 2
}
